{
 "cells": [
  {
   "cell_type": "markdown",
   "metadata": {},
   "source": [
    "# Understanding Profitable App Profiles from the Apple and Google Play Store\n",
    "Analyse Android and iOS app data to help developers understand what type of apps are likely to attract more users.\n",
    "\n",
    "## Context\n",
    "\n",
    "Most apps are free to download and use; therefore, the main source of revenue is from in-app adds. This means that revenue is directly proportional to the number of users that use our app. The more users, the more revenue.\n",
    "\n",
    "## Objective\n",
    "\n",
    "The objective of this project is to analyse Android and iOS app data to help developers understand what type of apps are likely to attract more users to make data-driven decisions with respect to the kind of apps they build.\n",
    "\n",
    "## Approach\n",
    "\n",
    "**1. Data Collection**\n",
    "* Google Play Store is sourced from [Dataquest](https://dq-content.s3.amazonaws.com/350/googleplaystore.csv).\n",
    "* Apple Store data is sourced from [Dataquest](https://dq-content.s3.amazonaws.com/350/AppleStore.csv).\n",
    "    \n",
    "**2. Opening and Exploring the Data**\n",
    "* Data is opened and explored as a list of lists.\n",
    "    \n",
    "**3. Deleting Innacurate Data**\n",
    "* The Google Play dataset has a discussion highlighting some errors in the data. These errors will have to be deleted.\n",
    "    \n",
    "**4. Removing Duplicate Entries**\n",
    "* Some data is collected at different time points. The data point with the highest number of reviews will be kept.\n",
    "* A dictionary is used to store the app name and select the one with the highest number of reviews.\n",
    "    \n",
    "**5. Removing Non-English Apps**\n",
    "* Each character we use in a string has a corresponding number associated with it. For instance, 'a' is 97, character 'A' is 65. Therefore, each app with a name containing a symbol that is not commonly used in English text will be removed.\n",
    "* A function is built to detect whether a character belongs to the set of common English characters or not. If the number is equal to or less than 127, then the character belongs to the set of common English characters (ASCII range).\n",
    "    \n",
    "**6. Isolating Free Apps**\n",
    "* A For Loop with a conditional statement is used. If the price is 0, it is stored in a list.\n",
    "    \n",
    "**7. Understanding Apps by Genre**\n",
    "* A frequency table is created to count the genres in the dataset.\n",
    "\n",
    "## Results\n",
    "Building an app around a popular book can be profitable. However, special features besides the raw version of the book must be added. This might include daily quotes from the book, an audio version of the book, quizzes on the book, a forum where people can discuss the book, etc.\n"
   ]
  }
 ],
 "metadata": {
  "kernelspec": {
   "display_name": "Python 3",
   "language": "python",
   "name": "python3"
  },
  "language_info": {
   "codemirror_mode": {
    "name": "ipython",
    "version": 3
   },
   "file_extension": ".py",
   "mimetype": "text/x-python",
   "name": "python",
   "nbconvert_exporter": "python",
   "pygments_lexer": "ipython3",
   "version": "3.7.6"
  }
 },
 "nbformat": 4,
 "nbformat_minor": 4
}
